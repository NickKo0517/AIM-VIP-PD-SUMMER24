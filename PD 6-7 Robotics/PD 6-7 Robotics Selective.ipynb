{
 "cells": [
  {
   "cell_type": "markdown",
   "id": "4c1d9317",
   "metadata": {},
   "source": [
    "# PD 6-7: Introduction to Robotics"
   ]
  },
  {
   "cell_type": "markdown",
   "id": "ba9683ce",
   "metadata": {},
   "source": [
    "Written by Samantha Sudhoff, edited by Tim Nadolsky\n",
    "\n",
    "Welcome to the PD 6-7: Introduction to Robotics selective!\n",
    "\n",
    "In this selective module, you will learn how to:\n",
    "- TBD\n",
    "- ...\n",
    "- ..."
   ]
  },
  {
   "cell_type": "markdown",
   "id": "d0c13c91",
   "metadata": {},
   "source": [
    "## Part 1: Installing ROS & the Gazebo Simulator\n",
    "\n",
    "ROS stands for Robot Operating System, and it is a set of libraries for robotics programming.\n",
    "\n",
    "#### Installing Linux as a VM on Windows or macOS\n",
    "\n",
    "It is easist (as well as recommended) to use ROS with Linux systems. If you are on macOS, you are out of luck because there is no macOS support. If you are on Windows, you can *technically* use ROS, but it is still recommended to use Ubuntu. This is because some packages don't yet exist for Windows, and using the Linux version is also faster than using the Windows version. If you do not already use Linux, this means that you will need to set up an Ubuntu Linux VM (Virtual Machine). I personally use VirtualBox for this purpose.\n",
    "\n",
    "Here is a brief summary of the steps needed to download Ubuntu on a VirtualBox VM:\n",
    "\n",
    "1. Download [VirtualBox 7](https://www.virtualbox.org/wiki/Downloads).\n",
    "2. Download an [Ubuntu 20.04 ISO](https://releases.ubuntu.com/20.04.6/?_gl=1*1t7f9g4*_gcl_au*MTk1NDQxMjYyMS4xNzA4NjY0Nzg5&_ga=2.215980757.35529440.1715893260-314673279.1715893260). It is important to use the 20.04 version, as the current LTS version is NOT compatible with ROS. \n",
    "3. Create a virtual machine by running VirtualBox and clicking the blue \"New\" button.\n",
    "    - Name this virtual machine \"Ubuntu\" or something similar.\n",
    "    - For the ISO image, select your downloaded Ubuntu image.\n",
    "    - The type should be Linux, and the version should be Ubuntu (64-bit).\n",
    "    - When creating your user profile on the next page titled \"Unattended Guest OS Install Setup\", make sure to change the username and password so you can have sudo access in the future.\n",
    "    - For resource specifications, use 8 GB RAM, 4 CPUs, and at least 25 GB Hard Disk size (provided your machine has at least 12 GB RAM, 6 threads, and 30 GB Hard Disk space available. If this isn't true, Teams DM for more help).\n",
    "4. Click start to launch your newly created virtual machine.\n",
    "\n",
    "More detailed installation instructions can be found on [this Ubuntu help page](https://ubuntu.com/tutorials/how-to-run-ubuntu-desktop-on-a-virtual-machine-using-virtualbox#1-overview). \n",
    "\n",
    "*(Ed's note: On Windows you may have a better time using Windows Subsystem for Linux which is more \"raw\" to the hardware, but I haven't experimented with this. Mac ARM users may benefit from using a more modern VM host that doesn't rely on Rosetta, such as VMWare Workstation Pro or Parallels. -Tim)*\n",
    "\n",
    "#### Installing ROS\n",
    "\n",
    "After installing Ubuntu, we can begin installation of our ROS software. We will download the Noetic Ninjemys version (Latest ROS 1 LTS). This can be done by simply opening the terminal in your VM and running the following command:\n",
    "```\n",
    "wget -c https://raw.githubusercontent.com/qboticslabs/ros_install_noetic/master/ros_install_noetic.sh && chmod +x ./ros_install_noetic.sh && ./ros_install_noetic.sh\n",
    "```\n",
    "\n",
    "Additionally, we will install one additional tool called 'catkin-tools'. To do so, type the following line into the terminal:\n",
    "```\n",
    "sudo apt-get install python3-catkin-tools\n",
    "```\n",
    "\n",
    "Now, we will install a software called 'Turtlebot', which will be used as an example robot that we can move around within the Gazebo simulator. To install our Turtlebot, we will first use the following steps:\n",
    "```\n",
    "sudo apt install ros-noetic-hls-lfcd-lds-driver\n",
    "sudo apt install ros-noetic-dynamixel-sdk\n",
    "sudo apt install ros-noetic-turtlebot3-msgs\n",
    "```\n",
    "\n",
    "Note that if you are experiencing any errors with ROS + TurtleBot setup, try using the setup commands from [this link](https://emanual.robotis.com/docs/en/platform/turtlebot3/quick-start/#pc-setup). Then re-run the 3 instructions above for the Turtlebot installation. \n",
    "\n",
    "Next, we will set up our source folder. Type the following into your terminal (line by line):\n",
    "```\n",
    "mkdir -p ~/catkin_ws/src\n",
    "cd ~/catkin_ws/src/\n",
    "git clone https://github.com/ROBOTIS-GIT/turtlebot3_msgs.git\n",
    "git clone https://github.com/ROBOTIS-GIT/turtlebot3.git\n",
    "cd ~/catkin_ws && catkin_make\n",
    "```\n",
    "\n",
    "As our example, we will be using the burger model of the TurtleBot3. Let's edit the bashrc file to add this model setting. \n",
    "```\n",
    "gedit ~/.bashrc\n",
    "```\n",
    "\n",
    "\n",
    "Now, we can add the following line to the very bottom of our bashrc file: export TURTLEBOT3_MODEL=burger \n",
    "\n",
    "Save the file and close out.\n",
    "\n",
    "Next, let's reload .bashrc with the following command:\n",
    "```\n",
    "source ~/.bashrc\n",
    "```\n",
    "\n",
    "\n",
    "Finally, we will download the TurtleBot3 simulation files:\n",
    "```\n",
    "cd ~/catkin_ws/src/\n",
    "git clone https://github.com/ROBOTIS-GIT/turtlebot3_simulations.git\n",
    "cd ~/catkin_ws && catkin_make\n",
    "```\n",
    "\n",
    "Now that we have downloaded our ROS software and TurtleBot3, we can control our TurtleBot and move it around using the Gazebo simulator. To do so, simply type the following line into the terminal: \n",
    "```\n",
    "roslaunch turtlebot3_gazebo turtlebot3_empty_world.launch\n",
    "```\n",
    "\n",
    "You should now successfully be able to see a Gazebo screen, where your TurtleBot should be visible. "
   ]
  },
  {
   "cell_type": "markdown",
   "id": "394f7939",
   "metadata": {},
   "source": [
    "##  Part 2: ROS and Gazebo \n",
    "\n",
    "Now that you have installed ROS, Gazebo, and TurtleBot, on your Ubuntu VM, it is important to ensure that all of these items have been set up correctly. To do so, you will need to submit several things:\n",
    "\n",
    "First, submit an image of your Gazebo screen after running the instructions given above. Place this image in your folder within *your GitHub submission for this assignment as well as* the Robot Cello Google Drive . This is to ensure that all of your software has properly been installed.\n",
    "\n",
    "Second, select a different model of the TurtleBot and run the simulation with this model. Figure out which command you need to run to control the robot with your keyboard. **Type this command into the submission box below.**\n",
    "\n",
    "Next, type which model you chose for your TurtleBot **in the submission box**.\n",
    "\n",
    "Additionally, note that our initial simulation was run in a blank Gazebo world. Can you run a simulation using the house map (or the map of your choice)? Insert an image of this running map in *your GitHub submission for this assignment as well as* the same folder as your first image on Google Drive. "
   ]
  },
  {
   "cell_type": "markdown",
   "id": "42bcd8f3",
   "metadata": {},
   "source": []
  },
  {
   "cell_type": "markdown",
   "id": "c711ee3b",
   "metadata": {},
   "source": [
    "## Part 3: Handling Motion Capture Data with Python\n",
    "\n",
    "For our project, we will be using motion capture data to train our robot to play the cello (along with several other forms of training data). Therefore, it is important to be able to handle, manipulate, and analyze this data using Python.\n",
    "\n",
    "The format of our motion capture data is using .fbx files. This data will be shared to members on Google Drive for future use. \n",
    "\n",
    "NOTE: If you are having trouble accessing the \"Robot Cello\" folder on Google Drive, send me (Samantha Sudhoff) your Gmail through Teams so the folder can shared with you. \n",
    "\n",
    "#### Getting started with Maya\n",
    "\n",
    "Maya is free to download through Purdue. On [autodesk.com](https://www.autodesk.com), sign in with your Purdue login, and download Maya for free.\n",
    "\n",
    "Download Maya and run one of the .fbx files to see what the animated format looks like of our motion capture data. \n",
    "\n",
    "You can even (optionally) synchronize these animated files with the audio recordings also found in the Google Drive, and you will be able to see all of the joint motions of Dr. Yun as she played the instrument. \n",
    "\n",
    "Then, upload any of the .fbx files in a new Maya file and play the video."
   ]
  },
  {
   "cell_type": "markdown",
   "id": "9e46fd41",
   "metadata": {},
   "source": [
    "#### Getting started with OpenCV\n",
    "\n",
    "After viewing the animation of the video file, we can download our .fbx file as a .MP4 video and then run this video using OpenCV. To do so, we must first install opencv using pip using the command ``pip install opencv-python``."
   ]
  },
  {
   "cell_type": "markdown",
   "id": "73c28538",
   "metadata": {},
   "source": [
    "The following code first imports cv, then creates a videoCapture object which we can use to read frames. We will open the video, play the frames, and then close the video and exit. "
   ]
  },
  {
   "cell_type": "code",
   "execution_count": 1,
   "id": "13b5be7b",
   "metadata": {},
   "outputs": [
    {
     "name": "stdout",
     "output_type": "stream",
     "text": [
      "Video Succefully opened\n",
      "Could not read the frame\n"
     ]
    }
   ],
   "source": [
    "import cv2\n",
    "\n",
    "## NOTE: MODIFY THE LINE BELOW FOR YOUR OWN VIDEO ##\n",
    "## ---------------------------------------------- ##\n",
    "videoName = 'animation2.MP4' # replace this file with your own MP4 file\n",
    "\n",
    "#create a videoCapture Object (this allow to read frames one by one)\n",
    "video = cv2.VideoCapture('Downloads/' + videoName)\n",
    "#check it's ok\n",
    "if video.isOpened():\n",
    "    print('Video Succefully opened')\n",
    "else:\n",
    "    print('Something went wrong check if the video name and path is correct')\n",
    "\n",
    "\n",
    "#define a scale lvl for visualization\n",
    "scaleLevel = 3 #it means reduce the size to 2**(scaleLevel-1)\n",
    "\n",
    "\n",
    "windowName = 'Animation File'\n",
    "cv2.namedWindow(windowName )\n",
    "#let's reproduce the video\n",
    "while True:\n",
    "    ret,frame = video.read() #read a single frame \n",
    "    if not ret: #this mean it could not read the frame \n",
    "         print(\"Could not read the frame\")   \n",
    "         cv2.destroyWindow(windowName)\n",
    "         break\n",
    "\n",
    "    reescaled_frame  = frame\n",
    "    for i in range(scaleLevel-1):\n",
    "        reescaled_frame = cv2.pyrDown(reescaled_frame)\n",
    "\n",
    "    cv2.imshow(windowName, reescaled_frame )\n",
    "\n",
    "    waitKey = (cv2.waitKey(1) & 0xFF)\n",
    "    if  waitKey == ord('q'): #if Q pressed you could do something else with other keypress\n",
    "         print(\"closing video and exiting\")\n",
    "         cv2.destroyWindow(windowName)\n",
    "         video.release()\n",
    "         break"
   ]
  },
  {
   "cell_type": "markdown",
   "id": "e0a19bd1",
   "metadata": {},
   "source": [
    "#### The Autodesk Python FBX SDK\n",
    "\n",
    "Now that we have viewed the .fbx file as an animation on Maya and displayed it as a .MP4 video using OpenCV, we can learn how to use the Autodesk Python FBX SDK. \n",
    "\n",
    "To install the Python FBX SDK, use the instructions on [this Autodesk help page](https://help.autodesk.com/view/FBX/2020/ENU/?guid=FBX_Developer_Help_scripting_with_python_fbx_installing_python_fbx_html).\n",
    "\n",
    "Once you have properly downloaded the SDK, you can look at the many examples provided in the FBX SDK sample folder. "
   ]
  },
  {
   "cell_type": "markdown",
   "id": "330e56a5",
   "metadata": {},
   "source": [
    "First, let's download our required imports. Note that bpy is a blender library. \n",
    "\n",
    "# TODO: finish this part"
   ]
  },
  {
   "cell_type": "markdown",
   "id": "79806124",
   "metadata": {},
   "source": [
    "## Part 4: Motion Capture Data \n",
    "\n",
    "For Part 2, first submit a screen recording of your Maya animation to your subfolder in the Robot Cello Google Drive. Then, modify the code above to display your .MP4 video. \n",
    "\n",
    "There is no submission required for the installation of the Python FBX SDK, as this scripting tool will only be used when running files with Blender itself. It is recommended to look through the sample files, as well as optionally download the C++ version of the FBX SDK since the Python version is just a binding. If you choose to download the C++ version, the [\"Your First Program\" overview](https://help.autodesk.com/view/FBX/2020/ENU/?guid=FBX_Developer_Help_getting_started_your_first_fbx_sdk_program_html) is very useful."
   ]
  },
  {
   "cell_type": "markdown",
   "id": "dccb022d",
   "metadata": {},
   "source": [
    "## Reminder\n",
    "\n",
    "Once you have finished this module, you should have learned how to:\n",
    "- TBD\n",
    "- ...\n",
    "- ..."
   ]
  }
 ],
 "metadata": {
  "kernelspec": {
   "display_name": "Python 3 (ipykernel)",
   "language": "python",
   "name": "python3"
  },
  "language_info": {
   "codemirror_mode": {
    "name": "ipython",
    "version": 3
   },
   "file_extension": ".py",
   "mimetype": "text/x-python",
   "name": "python",
   "nbconvert_exporter": "python",
   "pygments_lexer": "ipython3",
   "version": "3.11.2"
  }
 },
 "nbformat": 4,
 "nbformat_minor": 5
}
