{
 "cells": [
  {
   "cell_type": "markdown",
   "id": "84a2d337",
   "metadata": {},
   "source": [
    "# PD 2: The Cool(er) Parts Of Python\n",
    "\n",
    "Written by Tim Nadolsky",
    "\n",
    "Welcome to the second PD in the AIM summer intro assignment series. This assignment teaches some of the non-standard basics of Python needed in this lab.\n",
    "\n",
    "This PD assumes that you have a basic working knowledge of Python (or can quickly pick up Python coming from some other language). In particular, we assume that you know how to write variables (identifying their scope upon request), if statements, for/while loops, functions, return statements, among other things."
   ]
  },
  {
   "cell_type": "markdown",
   "id": "8764314f",
   "metadata": {},
   "source": [
    "By the end of this assignment, you should know how to work with:\n",
    "- Basic polymorphism and inheritance in Python\n",
    "- \"Concurrency\" using Python's *threading* library, plus the limitations and advantages of Python's GIL\n",
    "- Basic UnitTests in Python\n",
    "- How to set basic ABSL flags for running Python files from the command line\n",
    "- *numpy* and *matplotlib.pyplot* (Review)"
   ]
  },
  {
   "cell_type": "markdown",
   "id": "e8ce53f9",
   "metadata": {},
   "source": [
    "## Part 1: Inheritance and Object-Oriented Programming\n",
    "\n",
    "To organize our code better, our lab uses many object-oriented features of Python. Although these features have been \"tacked-on\" compared to other OOP languages such as Java, they are still useful for organizing and thinking about code. "
   ]
  },
  {
   "cell_type": "markdown",
   "id": "bef8413e",
   "metadata": {},
   "source": [
    "### 1.1. Classes"
   ]
  },
  {
   "cell_type": "markdown",
   "id": "5bcda679",
   "metadata": {},
   "source": [
    "Here is an example of a class in Python. We can make classes to store collections of methods and variables for easy use."
   ]
  },
  {
   "cell_type": "code",
   "execution_count": 1,
   "id": "f9e87ad6",
   "metadata": {},
   "outputs": [],
   "source": [
    "class ClassA:\n",
    "    variable = 3\n",
    "    def methodA():\n",
    "        print(\"methodA\")\n",
    "    def methodB():\n",
    "        print(\"methodB\")"
   ]
  },
  {
   "cell_type": "markdown",
   "id": "403b9f1c",
   "metadata": {},
   "source": [
    "We can call a class method using the ``.`` symbol:"
   ]
  },
  {
   "cell_type": "code",
   "execution_count": 2,
   "id": "ee5beed5",
   "metadata": {},
   "outputs": [
    {
     "name": "stdout",
     "output_type": "stream",
     "text": [
      "methodA\n"
     ]
    }
   ],
   "source": [
    "ClassA.methodA()"
   ]
  },
  {
   "cell_type": "markdown",
   "id": "559ed845",
   "metadata": {},
   "source": [
    "If we give a class an ``__init__`` method, it turns into an object class (that is, whenever we make a new copy of this class, it is a new \"instance\" of the object our class represents)."
   ]
  },
  {
   "cell_type": "code",
   "execution_count": 3,
   "id": "0bf35659",
   "metadata": {},
   "outputs": [],
   "source": [
    "class ObjectA:\n",
    "    def __init__(self): # The constructor - this method is called with ObjectA() and makes a new copy of ObjectA\n",
    "        print(\"Init'ed\")\n",
    "    def methodA(self): # An instance method\n",
    "        print(\"My methodA\")"
   ]
  },
  {
   "cell_type": "markdown",
   "id": "1de4e475",
   "metadata": {},
   "source": [
    "We can make a new copy of ``ObjectA`` with the following code:"
   ]
  },
  {
   "cell_type": "code",
   "execution_count": 4,
   "id": "f33f51d7",
   "metadata": {},
   "outputs": [
    {
     "name": "stdout",
     "output_type": "stream",
     "text": [
      "Init'ed\n"
     ]
    }
   ],
   "source": [
    "obj = ObjectA()"
   ]
  },
  {
   "cell_type": "markdown",
   "id": "3fbf8bc5",
   "metadata": {},
   "source": [
    "And run its ``methodA`` with the following code:"
   ]
  },
  {
   "cell_type": "code",
   "execution_count": 5,
   "id": "790f7a0d",
   "metadata": {},
   "outputs": [
    {
     "name": "stdout",
     "output_type": "stream",
     "text": [
      "My methodA\n"
     ]
    }
   ],
   "source": [
    "obj.methodA()"
   ]
  },
  {
   "cell_type": "markdown",
   "id": "4d5e00a3",
   "metadata": {},
   "source": [
    "You may have noticed that each of the method definitions contains an extra argument ``self``, yet there is no argument being passed into the object constructor. This is a reference to the object itself - when you call an instance method of an object (ex. ``obj.methodA()``), Python calls ``ObjectA.methodA`` and lets ``ObjectA`` know that the object calling the method is ``obj`` via the ``self`` parameter. \n",
    "\n",
    "Thus, all instance methods must have the ``self`` parameter as the first argument; otherwise, your code ceases to be object-oriented Python code.\n",
    "\n",
    "We can also set instance variables via the following:"
   ]
  },
  {
   "cell_type": "code",
   "execution_count": 6,
   "id": "81cf7a56",
   "metadata": {},
   "outputs": [],
   "source": [
    "class ObjectB:\n",
    "    def __init__(self, inVal):\n",
    "        self.val = inVal\n",
    "    def out(self):\n",
    "        print(self.val)"
   ]
  },
  {
   "cell_type": "code",
   "execution_count": 7,
   "id": "f9a2fb00",
   "metadata": {},
   "outputs": [
    {
     "name": "stdout",
     "output_type": "stream",
     "text": [
      "3\n"
     ]
    }
   ],
   "source": [
    "objB = ObjectB(3)\n",
    "objB.out()"
   ]
  },
  {
   "cell_type": "markdown",
   "id": "84328849",
   "metadata": {},
   "source": [
    "Essentially you can think of ``self`` as a \"black hole\" which you can attach any number of variables to."
   ]
  },
  {
   "cell_type": "markdown",
   "id": "636255ac",
   "metadata": {},
   "source": [
    "### 1.2 Inheritance"
   ]
  },
  {
   "cell_type": "markdown",
   "id": "a99055b6",
   "metadata": {},
   "source": [
    "Now that we have classes and objects in Python, we can do some interesting things. Here is our first example of inheritance at work:"
   ]
  },
  {
   "cell_type": "code",
   "execution_count": 8,
   "id": "c35a54e0",
   "metadata": {},
   "outputs": [],
   "source": [
    "class Animal:\n",
    "    def __init__(self, name):\n",
    "        self.name = name\n",
    "    def eat(self):\n",
    "        print(\"Crunch crunch crunch\")\n",
    "    def make_sound(self):\n",
    "        print(\"Thump thump thump\")\n",
    "    def respond_to_name(self, inName):\n",
    "        if self.name == inName:\n",
    "            print(\"!\")\n",
    "\n",
    "class Dog(Animal):\n",
    "    def __init__(self, name):\n",
    "        super().__init__(name)\n",
    "    def make_sound(self):\n",
    "        print(\"Woof?\")"
   ]
  },
  {
   "cell_type": "code",
   "execution_count": 9,
   "id": "ce050eae",
   "metadata": {},
   "outputs": [
    {
     "name": "stdout",
     "output_type": "stream",
     "text": [
      "Thump thump thump\n"
     ]
    }
   ],
   "source": [
    "ani = Animal(\"Pop\")\n",
    "ani.make_sound()"
   ]
  },
  {
   "cell_type": "code",
   "execution_count": 10,
   "id": "0d7df00a",
   "metadata": {},
   "outputs": [
    {
     "name": "stdout",
     "output_type": "stream",
     "text": [
      "Crunch crunch crunch\n",
      "Woof?\n",
      "!\n"
     ]
    }
   ],
   "source": [
    "dog = Dog(\"Peep\")\n",
    "dog.eat()\n",
    "dog.make_sound()\n",
    "dog.respond_to_name(\"Peep\")"
   ]
  },
  {
   "cell_type": "markdown",
   "id": "3eff33f3",
   "metadata": {},
   "source": [
    "There's a lot to unpack here. First, we set up a base class called ``Animal`` with some instance methods and variables. \n",
    "\n",
    "Then, we create a subclass called ``Dog`` which inherits from ``Animal`` using the syntax ``class Dog(Animal)``. \n",
    "\n",
    "What this means is that ``Dog`` gets all of ``Animal``'s instance methods; in fact, it actually is an ``Animal`` as well. \n",
    "\n",
    "Note that for this to work correctly, we also have to call the ``__init__`` method of the ``Animal`` superclass to initialize the ``Dog`` as an ``Animal`` (the line ``super().__init__...``).\n",
    "\n",
    "This creates some interesting behavior.\n",
    "1. We can call the superclass method ``eat()`` from ``Dog`` without having to cast ``dog`` to be an ``Animal`` - it just works.\n",
    "2. When we call ``make_sound`` on ``dog``, ``Dog``'s ``make_sound`` method overrides the default ``Animal``'s method.\n",
    "\n",
    "This behavior allows us to make modular code - that is, we can simply make one overarching \"superclass\" for many different types of subclasses, all with shared-ish methods that play together nicely. This will become clearer with the next example:"
   ]
  },
  {
   "cell_type": "markdown",
   "id": "6172be6b",
   "metadata": {},
   "source": [
    "### 1.3 Polymorphism"
   ]
  },
  {
   "cell_type": "code",
   "execution_count": 11,
   "id": "754ade35",
   "metadata": {},
   "outputs": [],
   "source": [
    "class Cat(Animal):\n",
    "    def __init__(self, name):\n",
    "        super().__init__(name)\n",
    "    def make_sound(self):\n",
    "        print(\"mrawwww\")"
   ]
  },
  {
   "cell_type": "code",
   "execution_count": 12,
   "id": "8274aa69",
   "metadata": {},
   "outputs": [
    {
     "name": "stdout",
     "output_type": "stream",
     "text": [
      "mrawwww\n"
     ]
    }
   ],
   "source": [
    "cat = Cat(\"Boss\")\n",
    "cat.make_sound()"
   ]
  },
  {
   "cell_type": "markdown",
   "id": "41f60174",
   "metadata": {},
   "source": [
    "Notice that we can call ``make_sound()`` on both ``cat`` and ``dog`` (with no crashes or undefined behavior) without knowing whether either is a ``Cat``, ``Dog`` or ``Animal`` as long as we can guarantee both are at least ``Animals``. Yet, each performed the same action in ways that were appropriate to that specific class. In object-oriented programming, we call this **polymorphism**.\n",
    "\n",
    "Some may wonder: can you access the parent's method once the child has its own method? The answer is yes, and you can do it using the ``super(<Superclass>, <subclass object reference>)`` method:"
   ]
  },
  {
   "cell_type": "code",
   "execution_count": 13,
   "id": "005d3ca1",
   "metadata": {},
   "outputs": [
    {
     "name": "stdout",
     "output_type": "stream",
     "text": [
      "Thump thump thump\n"
     ]
    }
   ],
   "source": [
    "super(Cat, cat).make_sound()"
   ]
  },
  {
   "cell_type": "markdown",
   "id": "844e4351",
   "metadata": {},
   "source": [
    "## Part 2: \"Concurrency\" using Python's *threading* library"
   ]
  },
  {
   "cell_type": "markdown",
   "id": "90a1022a",
   "metadata": {},
   "source": [
    "In this portion of the tutorial, we will be exploring how to get Python to do multiple tasks \"at once\" using Python's *threading* library."
   ]
  },
  {
   "cell_type": "code",
   "execution_count": 14,
   "id": "bed37501",
   "metadata": {},
   "outputs": [],
   "source": [
    "import threading\n",
    "import time"
   ]
  },
  {
   "cell_type": "markdown",
   "id": "6250ee0a",
   "metadata": {},
   "source": [
    "### 2.1 Pizza factories\n",
    "\n",
    "Roughly speaking, each thread is either running its own piece of code (sequentially according to its instructions) or waiting for some other thread/process to complete so it can start running its code.\n",
    "\n",
    "As an illustration: consider a home cook making a pizza from scratch versus a factory. The home cook has to proceed mostly in-order to the recipe, making the dough and sauce, grating the cheese, assembling the pizza, and baking it. Since the factory has more workers (threads), they can delegate one person to cook the sauce, one person to make pizza bases, one person to put cheese on pizzas, etc. \n",
    "\n",
    "This has several benefits: for one, each of the workers' tasks are very simple. For example, the person putting cheese on pizzas only has to put cheese on pizzas, which only requires a measurement of the amount of cheese before putting it on. Compare this to the home cook, who has to plan and execute the entire recipe from start to finish, which is much harder.\n",
    "\n",
    "Second (in an ideal world), the latency cooking the first pizza is about the same for both parties (since the pizza's ingredients take the same amount of time to cook in both cases). However, due to the fact that the factory has far more workers, they can start prepping many more pizzas while the first few are baking, increasing their average throughput drastically. The home cook can cook maybe a few pizzas concurrently at most with *very* careful planning, but they are ultimately limited by their physical ability to cook the pizzas and their ingredients (e.g. they can't pay attention to the sauce while they are busy grating the cheese, for example).\n",
    "\n",
    "### 2.2 Threading (for real)\n",
    "\n",
    "In computing terms: threading has multiple benefits - first, one large, bulky, hard-to-write for(ever) loop can be broken down into multiple simple-to-write threads, which dynamically share computing resources as they are needed by each thread. This makes writing and reading code much easier.\n",
    "\n",
    "Also, in an ideal world, threading drastically improves throughput performance in parallelizable workloads - that is, if a task can be broken down into smaller parts which can be run concurrently (in paralllel), threading improves the performance of these tasks. However, you will quickly find that there are significant limitations to how well this works in practice, even without the limitations of Python."
   ]
  },
  {
   "cell_type": "markdown",
   "id": "3765e877",
   "metadata": {},
   "source": [
    "To illustrate how this works in practice, let's use an example of 100 threads trying to increment a global variable called ``counter``."
   ]
  },
  {
   "cell_type": "code",
   "execution_count": 15,
   "id": "27faf44d",
   "metadata": {},
   "outputs": [],
   "source": [
    "# Make a bunch of global variables to store variables (not good practice normally)\n",
    "global counter\n",
    "global finished\n",
    "global threshold\n",
    "global finished"
   ]
  },
  {
   "cell_type": "code",
   "execution_count": 16,
   "id": "0ebd35ef",
   "metadata": {},
   "outputs": [],
   "source": [
    "# An object class for a thread which increments counter until it reaches the correct value\n",
    "class incrementerThread(threading.Thread):            \n",
    "    def __init__(self):                              \n",
    "        super(incrementerThread, self).__init__()\n",
    "        self.stopped = False\n",
    "        self.counter = 0\n",
    "    \n",
    "    # This method is called when incrementerThread.start() is called in the main method\n",
    "    def run(self):           \n",
    "        global counter                                \n",
    "        global finished\n",
    "        global threshold\n",
    "        global finished\n",
    "        while not self.stopped:\n",
    "            if counter < threshold and not finished:\n",
    "                counter = counter + 1\n",
    "                self.counter += 1\n",
    "            else:\n",
    "                self.stopped = True\n",
    "                finished = True\n",
    "            # time.sleep(0)"
   ]
  },
  {
   "cell_type": "code",
   "execution_count": 17,
   "id": "76e76dd9",
   "metadata": {},
   "outputs": [
    {
     "name": "stdout",
     "output_type": "stream",
     "text": [
      "Counter = 10000000\n",
      "Thread 0 incremented the counter 2220414 times\n",
      "Thread 1 incremented the counter 2033238 times\n",
      "Thread 2 incremented the counter 1771470 times\n",
      "Thread 3 incremented the counter 1374552 times\n",
      "Thread 4 incremented the counter 1590786 times\n",
      "Thread 5 incremented the counter 667450 times\n",
      "Thread 6 incremented the counter 204347 times\n",
      "Thread 7 incremented the counter 137743 times\n",
      "Thread(s) 8, 9, 10, 11, 12, 13, 14, 15, 16, 17, 18, 19, 20, 21, 22, 23, 24, 25, 26, 27, 28, 29, 30, 31, 32, 33, 34, 35, 36, 37, 38, 39, 40, 41, 42, 43, 44, 45, 46, 47, 48, 49, 50, 51, 52, 53, 54, 55, 56, 57, 58, 59, 60, 61, 62, 63, 64, 65, 66, 67, 68, 69, 70, 71, 72, 73, 74, 75, 76, 77, 78, 79, 80, 81, 82, 83, 84, 85, 86, 87, 88, 89, 90, 91, 92, 93, 94, 95, 96, 97, 98, 99, didn't increment the counter at all\n"
     ]
    }
   ],
   "source": [
    "# Set variables\n",
    "counter = 0\n",
    "finished = False\n",
    "threshold = 1e7\n",
    "num_threads = 100\n",
    "\n",
    "# Make a list of all the threads\n",
    "threadList = []\n",
    "\n",
    "# Fill the list with 100 threads\n",
    "for i in range(num_threads):\n",
    "    threadList.append(incrementerThread())\n",
    "\n",
    "# Start all the threads\n",
    "for thread in threadList:\n",
    "    thread.start()\n",
    "     \n",
    "# while not finished:\n",
    "    # time.sleep(1)\n",
    "    \n",
    "# Print the answer\n",
    "print(\"Counter =\", counter)\n",
    "\n",
    "# Print information about the threads\n",
    "non_running_threads = []\n",
    "for i in range(num_threads):\n",
    "    if threadList[i].counter != 0:\n",
    "        print(\"Thread %d incremented the counter %d times\" % (i, threadList[i].counter))\n",
    "    else:\n",
    "        non_running_threads.append(i)\n",
    "\n",
    "print(\"Thread(s) \", end=\"\")\n",
    "for i in non_running_threads:\n",
    "   print(\"%d, \" % (i), end=\"\")\n",
    "print(\"didn't increment the counter at all\")"
   ]
  },
  {
   "cell_type": "markdown",
   "id": "2f36d54a",
   "metadata": {},
   "source": [
    "Normally, if this was a PD on C++, C, Java, or nearly any other language besides Python, you would see a lengthy 6+ paragraph section on how the number above is almost never 100 million exactly. (For those interested, this is due to mutual memory access issues caused by having multiple threads write to the same object concurrently without a mutex or lock.)\n",
    "\n",
    "However, try as you might, but in Python, it will be very challenging for you to actually get the number to change from the correct answer of 10 million (which would indicate a non-thread-safe operation) without writing unsafe code on purpose."
   ]
  },
  {
   "cell_type": "markdown",
   "id": "d7dd08bc",
   "metadata": {},
   "source": [
    "### 2.3 The GIL and atomic operations"
   ]
  },
  {
   "cell_type": "markdown",
   "id": "fb550db9",
   "metadata": {},
   "source": [
    "The above behavior is due to Python's so-called **global interpreter lock** (GIL). In simple terms, the GIL only allows one thread at a time to actually do work. So, your so-called \"multi-threaded\" program only achieves single threaded performance!\n",
    "\n",
    "However, the GIL is not as bad as it may seem on the surface. Because there is only one thread running at a time, it is near impossible for Python to ever concurrently access the same memory and run into concurrency/mutex issues like in other threaded languages such as Java. Effectively, this makes it very hard for programmers to write incorrectly threaded Python code (in terms of output correctness), which makes development simple.\n",
    "\n",
    "In practice, you can assume that all operations on ints, doubles, lists, and built-in Python datatypes are **atomic** - that is, once that operation starts, the variable cannot be accessed by a different operation until the first operation finishes. More information is available [here](https://docs.python.org/3/faq/library.html#what-kinds-of-global-value-mutation-are-thread-safe) from the Python documentation.\n",
    "\n",
    "Also, it should be noted that while Python's GIL means it's effectively single threaded, there are several ways to achieve more than single-threaded performance out of Python.\n",
    "1. Many Python libraries are APIs to other languages in disguise (e.g. PyTorch maps Python to CUDA/C++). With these libraries, all Python has to do is make a few super-fast API calls to the other language, which has no issues using multiple threads efficiently. (Note: your other language may not be thread-safe.)\n",
    "2. If you REALLY want to process multiple things in Python at once, the *multiprocessing* library allows you to manage multiple Python instances from one main Python process. (This is usually a last resort due to the huge data transfer time penalty between threads.)"
   ]
  },
  {
   "cell_type": "markdown",
   "id": "b99fc2b8",
   "metadata": {},
   "source": [
    "### 2.4 Resource hogging"
   ]
  },
  {
   "cell_type": "markdown",
   "id": "0675220f",
   "metadata": {},
   "source": [
    "Note that while the above prevents programmers from writing code that produces incorrect results, it does not stop programmers from writing inefficient or even terminally slow code!\n",
    "\n",
    "If you read the thread counts above to see which threads did the most work, you'll see that the threads initialized first get most (or all) of the work done, while the other threads barely even get a chance to do anything.\n",
    "\n",
    "As an exercise, uncomment the line ``time.sleep(0)``, as well as the lines ``while not finished: time.sleep(1)``. The run will take far longer than the original, but the threads will have much more equal utilization. (And the counter will still be correct!)\n",
    "\n",
    "This is a case of what I have termed \"resource hogging\" in Python: if you don't put a ``time.sleep`` in your thread's ``run`` method (or exclusively use calls that either context switch away from the thread OR are guaranteed to complete extremely quickly), threads with long-running operations will suck all the resources from other threads before they can even start theirs."
   ]
  },
  {
   "cell_type": "markdown",
   "id": "43016af2",
   "metadata": {},
   "source": [
    "### 2.5 Stop conditions in Python"
   ]
  },
  {
   "cell_type": "markdown",
   "id": "20d57ea2",
   "metadata": {},
   "source": [
    "One more thing about threading: it's SUPER important to ALWAYS put a way to terminate your thread in its definition. In the above case, the threads stopped automatically once the counter reached the correct value. In \"production\" Mus2Vid/Companion code, the threads contain a ``stop_request`` attribute which kills the thread when set to ``True`` by an outside source.\n",
    "\n",
    "Python cannot kill infinite-looping threads on its own so it is SUPER important that your threads stop themselves, both when they're done working and when they're asked to by an outside program."
   ]
  },
  {
   "cell_type": "markdown",
   "id": "860a2025",
   "metadata": {},
   "source": [
    "## Part 3: UnitTests"
   ]
  },
  {
   "cell_type": "markdown",
   "id": "722389af",
   "metadata": {},
   "source": [
    "We're nearing the home stretch of this PD now! Next up are UnitTests - simple ways to test your code in Python automatically.\n",
    "\n",
    "UnitTests are super simple: you run them, and if they catch an exception or an error (which you define), they throw an error to the console while still allowing the other tests to run (and also potentially catch errors). Here is a mock unit test - note that you will need to use the included file called ``unittest_example.py``, or copy the code below into a discrete Python file to run it properly."
   ]
  },
  {
   "cell_type": "code",
   "execution_count": null,
   "id": "74185263",
   "metadata": {},
   "outputs": [],
   "source": [
    "# Modified from https://docs.python.org/3/library/unittest.html\n",
    "\n",
    "import unittest\n",
    "\n",
    "class TestStringMethods(unittest.TestCase):       # Your testing class MUST extend unittest.TestCase to be test-able\n",
    "\n",
    "    def test_upper(self):                         # All test methods must start with test_XXXXXX\n",
    "        self.assertEqual('foo'.upper(), 'FOO')    # self.assertEqual(X, Y) fails the test if X doesn't equal Y\n",
    "\n",
    "    def test_isupper(self):\n",
    "        self.assertTrue('FOO'.isupper())          # self.assertTrue(X) fails the test if X isn't True\n",
    "        self.assertFalse('Foo'.isupper())         # self.assertFalse(X) fails the test if X isn't False\n",
    "        \n",
    "    def test_bad(self):                           # This test should fail.\n",
    "        self.assertTrue(1 == 2)\n",
    "\n",
    "if __name__ == '__main__':                        # You need this last bit of code to run the test from the VSCode \"play\" button or the command line\n",
    "    unittest.main()"
   ]
  },
  {
   "cell_type": "markdown",
   "id": "fc19480e",
   "metadata": {},
   "source": [
    "You should use UnitTests any time you are writing at least a medium-sized project - simply import your libraries, write a few test cases and run them every time you make a decent-sized change to your project's code.\n",
    "\n",
    "One final thing about UnitTests: Prof. Raymond Yeh (in Purdue's CS department) explained the utility of UnitTests really well with this paraphrased passage:\n",
    "Most people say they don't have time to write UnitTests. However, if you don't have time to write UnitTests and debug properly, you definitely don't have time to NOT write UnitTests (and debug by searching for a needle-in-a-haystack-type bug)."
   ]
  },
  {
   "cell_type": "markdown",
   "id": "6ff4bdb6",
   "metadata": {},
   "source": [
    "## Part 4: ABSL flags"
   ]
  },
  {
   "cell_type": "markdown",
   "id": "cd8a9d2a",
   "metadata": {},
   "source": [
    "One last little thing which will help make your life easy while developing Python code!\n",
    "\n",
    "Abseil (or ABSL) is a [collection of Python library code for building Python applications. The code is collected from Google's own Python code base, and has been extensively tested and used in production.](https://pypi.org/project/absl-py/)\n",
    "\n",
    "One of the cool things that ABSL can do is allow you to use command-line flags easily when running your code. Here is some example code - note that like the UnitTests, you will have to use the included file called ``absl_example.py`` or copy the code below into a discrete Python file to run it properly."
   ]
  },
  {
   "cell_type": "code",
   "execution_count": null,
   "id": "28c8065e",
   "metadata": {},
   "outputs": [],
   "source": [
    "from absl import app, flags\n",
    "\n",
    "# Flags are the command line arguments your program is expecting\n",
    "# The syntax follows the format (name, default, (enum options if an enum), help_text)\n",
    "# Several common options are:\n",
    "# Enum: choose from a few preset programmer-defined choices\n",
    "# String: self explanatory\n",
    "# Integer: self explanatory\n",
    "flags.DEFINE_enum('cool_letter', 'A', ['A', 'B','C'], 'A cool letter (one of the first three in the English alphabet)')\n",
    "flags.DEFINE_string('name', 'Marty McFly', None)\n",
    "flags.DEFINE_integer('number', 0, None)\n",
    "\n",
    "# For programming ease\n",
    "FLAGS = flags.FLAGS\n",
    "\n",
    "def main(argv):\n",
    "    print(\"Hi my name is %s, my favorite letter is %s and my number is %d!\" % (FLAGS.name, FLAGS.cool_letter, FLAGS.number))\n",
    "\n",
    "# Need this bit to run the code properly\n",
    "if __name__ == \"__main__\":\n",
    "    app.run(main)"
   ]
  },
  {
   "cell_type": "markdown",
   "id": "ccfc8540",
   "metadata": {},
   "source": [
    "The syntax to run the code with the flags properly is:\n",
    "``python <filename>.py -cool_letter <cool_letter> -name <name> -number <number>``\n",
    "\n",
    "You can include/omit as many tags as you want because each one has defaults specified in the program."
   ]
  },
  {
   "cell_type": "markdown",
   "id": "5f9af76a",
   "metadata": {},
   "source": [
    "## Reminder\n",
    "\n",
    "So far in this PD activity, you should have learned the following:\n",
    "- Basic polymorphism and inheritance in Python\n",
    "- \"Concurrency\" using Python's *threading* library, plus the limitations and advantages of Python's GIL\n",
    "- Basic UnitTests in Python\n",
    "- How to set basic ABSL flags for running Python files from the command line\n",
    "\n",
    "If not, please go back and re-read some of the sections and play with the examples to learn more."
   ]
  },
  {
   "cell_type": "markdown",
   "id": "8f40412f",
   "metadata": {},
   "source": [
    "## Exercise\n",
    "\n",
    "The below assignment assumes you've used *numpy* and *matplotlib* before, or can at least find your way around the documentation well enough to do the assignment. You will also need some (very basic) linear algebra knowledge (possibly) as well as some basic analytic geometry (e.g. the kind you learn in Calculus here).\n",
    "\n",
    "There are three files included in the GitHub repo for this assignment which you have to write code for: ``image_generator.py``, ``generation_tests.py``, and ``generator_thread.py``, the last of which is also your main file. These files essentially serve as a *very* janky version of real-time image generation - however, instead of using diffusion models, we're simply doing cool-looking things in *numpy* and *matplotlib* by hand instead.\n",
    "\n",
    "Finish writing the code for these files as best you can, and submit these three files as your final submission."
   ]
  }
 ],
 "metadata": {
  "kernelspec": {
   "display_name": "Python 3 (ipykernel)",
   "language": "python",
   "name": "python3"
  },
  "language_info": {
   "codemirror_mode": {
    "name": "ipython",
    "version": 3
   },
   "file_extension": ".py",
   "mimetype": "text/x-python",
   "name": "python",
   "nbconvert_exporter": "python",
   "pygments_lexer": "ipython3",
   "version": "3.11.2"
  }
 },
 "nbformat": 4,
 "nbformat_minor": 5
}
