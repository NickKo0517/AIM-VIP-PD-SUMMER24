{
 "cells": [
  {
   "cell_type": "code",
   "execution_count": null,
   "metadata": {
    "id": "RzL0LDrG_XEX"
   },
   "outputs": [],
   "source": []
  },
  {
   "cell_type": "markdown",
   "metadata": {
    "id": "3V9h0Dy5_cVQ"
   },
   "source": [
    "# **Big-O and Sorting**\n",
    "\n",
    "This tutorial will introduce a few sorting algorithms and Big-O analysis. It is recommended to read the recursion and induction tutorial first to better understand this one.\n",
    "\n",
    "## **Big-O**\n",
    "\n",
    "Big O notation is a mathematical notation that describes the limiting behavior of a function when the argument tends towards a particular value or infinity. In computer science it is frequently used to analyze the worst-case runtime and memory efficiency of algorithms for problems involving large amounts of data.\n",
    "\n",
    "Given two functions $f(n)$ and $g(n)$, we say that $f(n)$ is $O(g(n))$ if there exist constants $c > 0$ and $n_0 \\ge 0$ such that $f(n) \\le c*g(n)$ for all $n \\ge n_0$.\n",
    "\n",
    "As an example, consider the following code:\n",
    "\n",
    "\n"
   ]
  },
  {
   "cell_type": "code",
   "execution_count": null,
   "metadata": {
    "id": "vUPfDcVAXzYD"
   },
   "outputs": [],
   "source": [
    "# Python program to illustrate time\n",
    "# complexity for single for-loop\n",
    "a = 0\n",
    "N = 4\n",
    "\n",
    "# This loop runs for N time\n",
    "for i in range(N):\n",
    "    a = a + 10"
   ]
  },
  {
   "cell_type": "markdown",
   "metadata": {
    "id": "evrM8ZZIBLpw"
   },
   "source": [
    "The command $a=a+10$ inside the loop takes constant $O(1)$ time, and since it is run $N$ times, we say that the loop takes $O(N)$ time. Here are some more examples:"
   ]
  },
  {
   "cell_type": "markdown",
   "metadata": {
    "id": "wY6j_rtoHxO8"
   },
   "source": [
    "**Simplify the function $f(n)=n^3+5n^2-30n+1$ using Big-O notation.**\n",
    "\n",
    "Observe that for large $n$, $n^3$ grows faster than $5n^2$. Since $n^3$ has the highest growth rate out of all the terms of $f$, we can say that $f$ is $O(n^3)$."
   ]
  },
  {
   "cell_type": "markdown",
   "metadata": {
    "id": "e0BToqUmIE83"
   },
   "source": [
    "From this example, we can see that we can imagine Big-O as the asymptotic upper bound of a function.\n",
    "\n",
    "## **Big-Ω and Big-Θ**\n",
    "\n",
    "Big-Ω (omega) is similar to big-O in that it represents an asymptotic lower bound, or best case, of an algorithm. Put more rigorously,\n",
    "\n",
    "Given two functions  $f(n)$  and  $g(n)$ , we say that $f(n)$ is  $Ω(g(n))$  if there exist constants $c>0$ and  $n_0\\ge 0$ such that $f(n)\\ge c \\cdot g(n)$  for all $n \\ge n_0$.\n",
    "\n",
    "Note that Big-O and Big-Ω do not have to be asymptotically tight bounds, for example, if we have a function $f(n) = \\log n$, we can say it is $O(2^n)$ since it grows slower than an exponential function and $Ω(1)$ (since it is grows faster than constant time).\n",
    "\n",
    "We can use Big-Θ (theta) notation to describe an asymptotically tight bound for a function. Given two functions  $f(n)$  and  $g(n)$  , we say that $f(n)$ is  $Θ(g(n))$  if there exist constants  $c_1,c_2>0$  and  $n_0\\ge0$  such that  $c_1\\cdot g(n) \\le f(n)\\le c_2\\cdot g(n)$  for all  $n \\ge n_0$ .For example, consider the function $f(n)=n^2+3n+5$. Since for all $n \\ge 1$ we have $n^2\\le f(n)\\le 9n^2$, we know that $f(n)$ is $Θ(n^2)$.\n",
    "\n",
    "From the definition of Big-Θ, we can easily show that $f(n)$ is  $Θ(g(n))$ if $f(n)=O(g(n))$ and $f(n) = Ω(g(n))$."
   ]
  },
  {
   "cell_type": "code",
   "execution_count": null,
   "metadata": {
    "id": "phAO1jNoGGLf"
   },
   "outputs": [],
   "source": []
  },
  {
   "cell_type": "markdown",
   "metadata": {
    "id": "7iuVKeoCX5HN"
   },
   "source": [
    "\n",
    "## **Sorting**\n",
    "\n",
    "In computer science, we often use sorting to rearrange an array or list of elements in ascending or descending order. There are many algorithms for sorting, but for the purposes of this module we will cover two types of sorting.\n",
    "\n",
    "### **Merge Sort**\n",
    "Merge sort uses a recursive approach to sort an array of elements. The three main steps are:\n",
    "\n",
    "1.  Divide the list or array recursively into two halves until it can no more be divided.\n",
    "\n",
    "2.  Each subarray is sorted individually using the merge sort algorithm.\n",
    "\n",
    "3.  The sorted subarrays are merged back together in sorted order. The process continues until all elements from both subarrays have been merged.\n",
    "\n",
    "Here is pseudocode that can be used for one implementation of mergesort:\n",
    "\n",
    "\n"
   ]
  },
  {
   "cell_type": "code",
   "execution_count": null,
   "metadata": {
    "id": "kdMGOG7NLQBE"
   },
   "outputs": [],
   "source": [
    "# This is pseudocode, please do not run\n",
    "function mergesort(A) # A is a list of integers.\n",
    "  if len(A) > 1\n",
    "    # Find the middle index of the array\n",
    "    m = len(A)/2\n",
    "\n",
    "    # Split the array into left (L) and right (R) subarrays\n",
    "    L = A[0,...,m-1] # left subarray\n",
    "    R = A[m,...,len(A)-1] # right subarray\n",
    "    L = mergesort(L) # call mergesort again on left subarray\n",
    "    R = mergesort(R) # call mergesort again on right subarray\n",
    "\n",
    "    # Merge L and R back on top of A\n",
    "    Lindex = 0\n",
    "    Rindex = 0\n",
    "    Aindex = 0\n",
    "    while Lindex < len(L) and Rindex < len(R)\n",
    "      if L[Lindex] <= R[Rindex]: # If the current element in L is less than or equal to the current element in R\n",
    "        A[Aindex] = L[Lindex] # Copy the element from L to A\n",
    "        Lindex ++ # Move to the next element in L\n",
    "        Aindex ++ # Move to the next element in A\n",
    "      else:\n",
    "        A[Aindex] = R[Rindex] # Otherwise copy the element from R to A\n",
    "        Rindex ++ # Move to the next element in R\n",
    "        Aindex ++ # Move to the next element in A\n",
    "    end while\n",
    "\n",
    "    # Copy any remaining elements in L to A\n",
    "    while Lindex < len(L)\n",
    "      A[Aindex] = L[Lindex]\n",
    "      Lindex ++\n",
    "      Aindex ++\n",
    "    end while\n",
    "    # Copy any remaining elements in R to A\n",
    "    while Rindex < len(R)\n",
    "      A[Aindex] = R[Rindex]\n",
    "      Rindex ++\n",
    "      Aindex ++\n",
    "    end while\n",
    "  end if\n",
    "  return A # return original array, which is now sorted\n",
    "end algorithm\n"
   ]
  },
  {
   "cell_type": "markdown",
   "metadata": {
    "id": "SNhwgMbBPpoD"
   },
   "source": [
    "For a great illustration on how merge sort works, see the following demo: https://www.hackerearth.com/practice/algorithms/sorting/merge-sort/visualize/\n",
    "\n",
    "It is recommended to run the demo without any preset array values. This causes the simulation to fill the array with random values and can give a better understanding of the sorting algorithm.\n",
    "\n",
    "How can we use the given code to analyze the time and space complexity of merge sort? Observe that other than the two recursive calls to mergesort there are constant time calculations and three while loops.\n",
    "\n",
    "However, observe that the three while loops together result in a total of $n$ iterations because together they just merge $L$ and $R$ back together and since $L$ and $R$ together form $A$, the claim follows.\n",
    "Together then, other than the two recursive calls, $Θ(n)$ time is required. It follows that the time complexity $T(n)$ on an input of size $n$ therefore satisfies the recurrence relation:\n",
    "$T(n) = 2T(n/2) + f(n)$ with $T(1)$ constant and $f(n) = Θ(n)$\n",
    "\n",
    "From here, try to figure out why $T(n)=Θ(n\\log n)$. Hint: try drawing a tree using the recurrence relation. What is the sum of the cost of each levels? How many levels are there?\n",
    "\n",
    "We can find the space complexity of merge sort in a similar manner. After finding a recurrence from analyzing the code, we can solve to find $Θ(n)$ space complexity.\n",
    "\n",
    "### **Human Sort**\n",
    "\n"
   ]
  }
 ],
 "metadata": {
  "colab": {
   "provenance": []
  },
  "kernelspec": {
   "display_name": "Python 3 (ipykernel)",
   "language": "python",
   "name": "python3"
  },
  "language_info": {
   "codemirror_mode": {
    "name": "ipython",
    "version": 3
   },
   "file_extension": ".py",
   "mimetype": "text/x-python",
   "name": "python",
   "nbconvert_exporter": "python",
   "pygments_lexer": "ipython3",
   "version": "3.11.2"
  }
 },
 "nbformat": 4,
 "nbformat_minor": 1
}
