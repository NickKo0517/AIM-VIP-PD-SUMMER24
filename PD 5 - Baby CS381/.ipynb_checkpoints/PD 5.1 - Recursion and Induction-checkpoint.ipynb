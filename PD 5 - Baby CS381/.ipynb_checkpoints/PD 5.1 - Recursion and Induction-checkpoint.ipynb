{
 "cells": [
  {
   "cell_type": "markdown",
   "metadata": {
    "id": "1PHILTOsjtoD"
   },
   "source": [
    "# PD 5.1 - Recursion and Induction\n",
    "\n",
    "Welcome to the 5th PD in the Purdue AIM VIP PD series! This tutorial will explain how recursion and mathematical induction work.\n",
    "\n",
    "At the end of this notebook, you should have learned the following:\n",
    "- How recursion works at a conceptual level\n",
    "- How to convert iterative code to recursive code and vice versa\n",
    "- How induction can be used as a proof structure over natural numbers\n",
    "- How to write a basic induction proof"
   ]
  },
  {
   "cell_type": "markdown",
   "metadata": {},
   "source": [
    "## 5.1.1 Recursion\n",
    "### To define recursion, one must define recursion...\n",
    "\n",
    "#### Recursion definition\n",
    "Recursion involves a function calling itself directly or indirectly. You probably have seen a recursive algorithm before, so we won't go into too much explanation here. As a toy example, consider the factorial function in math:\n",
    "\n",
    "$$n! = n\\cdot (n-1) \\cdot (n-2) \\cdot \\dots \\cdot 3 \\cdot 2 \\cdot 1 $$\n",
    "\n",
    "(We define $0!=1$ and only allow factorials over the natural numbers for simplicity.)\n",
    "\n",
    "Consider how we can calculate $5!$. We know $5! = 5 \\cdot 4 \\cdot 3 \\cdot 2 \\cdot 1$. Also, we know that $4!= 4 \\cdot 3\\cdot 2 \\cdot 1$. Factoring, we get $5! = 5 \\cdot 4!$, which shows that we can compute a factorial by computing smaller factorials first.\n",
    "\n",
    "In general, we have the **recurrence** $n! = n \\cdot (n-1)!$. (If this isn't clear, try the factoring trick above with a few small values of $n$ to convince yourself this works.)\n",
    "\n",
    "Note that eventually, we have to calculate some factorial WITHOUT using the recurrence (otherwise, the recurrence would extend infinitely through the negative integers). Thus, we must have some **base case** (in this case, we define/know that $0!=1!=1$, so we use one of these base cases)."
   ]
  },
  {
   "cell_type": "markdown",
   "metadata": {},
   "source": [
    "#### How to implement recursion in your program\n",
    "\n",
    "The algorithmic steps for implementing recursion in a function are as follows:\n",
    "\n",
    "1. Define a **base case**: Identify the simplest case for which the solution is known or trivial. This is the stopping condition for the recursion, as it prevents the function from infinitely calling itself.\n",
    "\n",
    "*For the factorial function, this is the case $0!=1$ or $1!=1$.*\n",
    "\n",
    "2. Define a **recurrence**: Define the problem in terms of smaller subproblems. Break the problem down into smaller versions of itself, and call the function recursively to solve each subproblem.\n",
    "\n",
    "*For the factorial function, this is the recurrence $n!=n\\cdot(n-1)$.*\n",
    "    \n",
    "\n",
    "3. Ensure the recursion terminates: Make sure that the recursive function eventually reaches the base case, and does not enter an infinite loop. Recurrences that are infinite or self-referential are usually no good in computer science, unless they are used as either approximation algorithms or can be converted to finite-length recurrences.\n",
    "\n",
    "*We can prove this for the factorial function using induction below.*\n",
    "    \n",
    "\n",
    "4. Combine the solutions: Combine the solutions of the subproblems to solve the original problem.\n",
    "\n",
    "*We only care about the end result $n!$ here, but this will be useful later.*"
   ]
  },
  {
   "cell_type": "markdown",
   "metadata": {},
   "source": [
    "#### A comparison of iterative and recursive approaches to factorial computation\n",
    "\n",
    "Below is iterative (looped, non-recursive) code to compute the factorial of a number."
   ]
  },
  {
   "cell_type": "code",
   "execution_count": 3,
   "metadata": {},
   "outputs": [],
   "source": [
    "def factorial_iterative(n):\n",
    "    if n <= 1:     # \"Base case\" - that is, 1! or 0!\n",
    "        return 1\n",
    "    else:\n",
    "        output = 1\n",
    "        for i in range(2,n+1):\n",
    "            output *= i\n",
    "        return output"
   ]
  },
  {
   "cell_type": "markdown",
   "metadata": {},
   "source": [
    "Now here is the recursive version of the factorial function (so you can compare)."
   ]
  },
  {
   "cell_type": "code",
   "execution_count": 4,
   "metadata": {
    "colab": {
     "base_uri": "https://localhost:8080/"
    },
    "id": "wTTGNQZ9nC0x",
    "outputId": "92e40522-75ea-45aa-a104-f8678ddc039f"
   },
   "outputs": [],
   "source": [
    "def factorial_recursive(n):\n",
    "    if n <= 1:     # Base case - that is, 1! or 0!          Line *1\n",
    "        return 1\n",
    "    else:          # Recursive call to factorial function   Line *2\n",
    "        return (n * factorial_recursive(n - 1)) "
   ]
  },
  {
   "cell_type": "markdown",
   "metadata": {},
   "source": [
    "Essentially, the \"iteration\" (multiplying by all the factors of $n!$ from $1$ to $n$) in both factorial functions is handled by the for loop in ``factorial_iterative``, but is handled by the recursion of ``factorial_recursive``.\n",
    "\n",
    "To show these functions are equivalent, we will write a small informal test:"
   ]
  },
  {
   "cell_type": "code",
   "execution_count": 11,
   "metadata": {},
   "outputs": [
    {
     "name": "stdout",
     "output_type": "stream",
     "text": [
      "All test cases passed\n"
     ]
    }
   ],
   "source": [
    "def test_factorial():\n",
    "    test_clear = True\n",
    "    for i in range(0, 500):\n",
    "        fi = factorial_iterative(i)\n",
    "        fr = factorial_recursive(i)\n",
    "        if fi != fr:\n",
    "            print(\"Test failed at i = %d, factorial_iterative(%d) = %d, factorial_recursive(%d) = %d\" % (i, i, fi, i, fr))\n",
    "            test_clear = False\n",
    "            break\n",
    "    if test_clear:\n",
    "        print(\"All test cases passed\")\n",
    "        \n",
    "test_factorial()"
   ]
  },
  {
   "cell_type": "markdown",
   "metadata": {
    "id": "Ugij8Iq5n45b"
   },
   "source": [
    "## 5.1.2 Induction\n",
    "### If I've told you $n$ times, I've told you $n+1$ times...\n",
    "\n",
    "Now that we've discussed recursion, you might be thinking: it would be useful if we had a way to prove/mathematically reason that our recurrences do what we think they do. After all, how can we know that our algorithm's future calls to our function will do what we expect? This is where **induction** comes in.\n",
    "\n"
   ]
  },
  {
   "cell_type": "markdown",
   "metadata": {},
   "source": [
    "Induction is a method of proof that uses a recursive approach to prove a statement is true. Generally, we do induction over the natural numbers or something that can be mapped to the natural numbers - let's call this $P(n)$ (a **claim**). \n",
    "\n",
    "(Pedantically, $P(n)$ is a function that represents our claim: it takes in a natural number $n$ and returns True or False depending on if our claim is True for the $n$th case of our claim.)\n",
    "\n",
    "The general structure is similar for all induction proofs:\n",
    "\n",
    "Proof statement: We claim $P(n)$ is true for all natural-number-valued $n$ (that is, $n\\in\\mathbb{N}$) such that $n\\geq n_0$, where $n_0\\in\\mathbb{N}$.\n",
    "\n",
    "Base case: We show $P(n)$ holds for $n=n_0$ (our base case); typically $n_0 = 0$ or $n_0 = 1$. Note that some proofs require multiple base cases.\n",
    "\n",
    "Inductive step: Without loss of generality, choose some arbitrary $k \\geq n_0$. Assume $P(k)$ is True (this is called the **inductive hypothesis (IH)**). \n",
    "\n",
    "Show that if $P(k)$ is True, then $P(k+1)$ must also be True. (In other words, show $P(k)$ implies $P(k+1)$, or $P(k)\\rightarrow P(k+1)$.) \n",
    "\n",
    "Alternatively, you can show $P(k-1)$ implies $P(k)$ for the inductive step if you restrict $k > n_0$.\n",
    "\n",
    "Closing statement: Since $P(n_0)$ is True and $P(k)\\rightarrow P(k+1)$ for all $k\\geq n_0$, by induction, $P(n)$ is true for all $n\\geq n_0$."
   ]
  },
  {
   "cell_type": "markdown",
   "metadata": {},
   "source": [
    "#### Simple example\n",
    "\n",
    "Let's see how this works with a very simple example.\n",
    "\n",
    "Proof statement: Define $P(n)$ as the claim $1+2+3+\\dots+(n-2)+(n-1)+n=\\frac{n(n+1)}{2}$. We claim $P(n)$ is True for all $n\\geq 1$, where $n\\in\\mathbb{N}$.\n",
    "\n",
    "Base case: $1=\\frac{1(1+1)}{2}=\\frac{2}{2}=1$. Thus, $P(1)$ is True.\n",
    "\n",
    "Inductive step: Assume $P(k)$ is True for $k\\geq 1$; that is, $1+2+3+\\dots+(k-2)+(k-1)+k=\\frac{k(k+1)}{2}$.\n",
    "\n",
    "Then, let's try $P(k+1)$: $1+2+3+\\dots+(k-2)+(k-1)+k+(k+1)$\n",
    "\n",
    "$=[1+2+3+\\dots+(k-2)+(k-1)+k]+(k+1)$ (grouping with brackets)\n",
    "\n",
    "$=\\frac{k(k+1)}{2}+(k+1)$ (by the IH) \n",
    "\n",
    "$=\\frac{k(k+1)}{2} + \\frac{2(k + 1)}{2}$ (rewrite second term as a fraction)\n",
    "\n",
    "$=\\frac{(k+1)(k+2)}{2}$ (combining fractions, factoring, and rearranging)\n",
    "\n",
    "$=\\frac{[k+1]([k+1]+1)}{2}$ (grouping)\n",
    "\n",
    "Thus, $P(k) \\rightarrow P(k+1)$.\n",
    "\n",
    "Since $P(1)$ is True and $P(k)\\rightarrow P(k+1)$ for all $k>1$, by induction, $P(n)$ is True for all $n\\in\\mathbb{N}$ where $n\\geq 1$."
   ]
  },
  {
   "cell_type": "markdown",
   "metadata": {},
   "source": [
    "#### An analogy\n",
    "\n",
    "An easy analogy to understand inductive proofs by is a line of dominoes: if we tip the first domino to make it fall (the base case) and each domino that falls causes the subsequent domino to fall (the inductive step), ultimately all the dominos will fall.\n",
    "\n",
    "Similarly, we show in the proof above that $P(1)$ is True (the first domino falls). Then, since the inductive step is True ($P(k)\\rightarrow P(k+1)$), this causes $P(2)$ to be True, which in turn causes $P(3)$ to be True, which causes $P(4)$, $P(5)$, ... and so on (through any $P(n)$ and beyond) to be True."
   ]
  },
  {
   "cell_type": "markdown",
   "metadata": {},
   "source": [
    "#### Adding in code to an induction proof\n",
    "\n",
    "Let's see how this works in practice with our factorial function example. To make our mathematical proof play well with our code, we use line numbers to show our code is doing what we think it's doing.\n",
    "\n",
    "Proof statement: Define $P(n)$ as the claim \"``factorial_recursive(n)`` computes $n!$ correctly in a finite amount of time\". We claim $P(n)$ is True for all $n\\geq 0$, where $n\\in\\mathbb{N}$.\n",
    "\n",
    "Base case: $0!=1$. ``factorial_recursive(n=0)`` outputs 1 in exactly 1 operation (see Line \\*1). Therefore, $P(0)$ is True. \n",
    "\n",
    "Inductive step: Assume $P(k-1)$ is True for an arbitrary $k>0$ - that is, ``factorial_recursive(n=k-1)`` computes $(k-1)!$ correctly in a finite amount of time.\n",
    "\n",
    "Also note that $k!=k\\cdot(k-1)!$ (proof by factoring above). \n",
    "\n",
    "``factorial_recursive(n=k)`` outputs $k$ multiplied by ``factorial_recursive(n=k-1)`` when $k>0$ (see Line \\*2).\n",
    "\n",
    "Since $P(k-1)$ is True, this is equal to $k\\cdot(k-1)!=k!$, which is the correct result. \n",
    "\n",
    "In addition, ``factorial_recursive(n=k)`` takes exactly one more operation than ``factorial_recursive(n=k-1)`` to compute (the multiplication below Line \\*2); thus, since ``factorial_recursive(n=k-1)`` completes in a finite amount of time, ``factorial_recursive(n=k)`` must also complete in a finite amount of time.\n",
    "\n",
    "Thus, $P(k-1)$ implies $P(k)$.\n",
    "\n",
    "Closing statement: Since $P(0)$ is True and $P(k-1)\\rightarrow P(k)$ for all $k>0$, by induction, $P(n)$ is True for all $n\\in\\mathbb{N}$."
   ]
  },
  {
   "cell_type": "markdown",
   "metadata": {},
   "source": [
    "#### A more challenging induction proof\n",
    "\n",
    "One of the most well-known recursions is the Fibonacci series, which is defined as follows:\n",
    "The Fibonacci sequence, denoted by $F_n$ is defined with base cases $F_0=0$ and $F_1=1$, and exhibits the property $$F_n=F_{n-1}+F_{n-2}$$ for all $n\\geq 2$.\n",
    "\n",
    "The first few terms of the Fibonacci series can be calculated as follows:\n",
    "$$0, 1, 1, 2, 3, 5, 8, 13, 21, 34, 55, 89, 144...$$\n",
    "\n",
    "**Prove that for all positive integers $n$, $$F_nF_{n+2}=F_{n+1}^2+(-1)^{n+1}$$**\n",
    "\n",
    "For this problem we let $P(n)$ be the mathematical statement $$F_nF_{n+2}=F_{n+1}^2+(-1)^{n+1}$$ We proceed using induction.\n",
    "\n",
    "Base case: $n=1$\n",
    "\n",
    "We know by definition that $F_1=1$, moreover $F_2=F_0+F_1=1$ and $F_3 = F_1+F_2=2$ So, the left hand side is $F_1F_3=1 \\cdot 2 = 2$ and the right hand side is also $F_2^2+(-1)^2 = 2$. Thus the base case $P(1)$ holds.\n",
    "\n",
    "Inductive step:\n",
    "\n",
    "Assume for some value $k$ that $P(k)$ holds. It follows that $$F_kF_{k+2}-(-1)^{k+1}=F_{k+1}^2$$ Then for $n=k+1,$ \\begin{align}F_{k+1}F_{k+3} &= F_{k+1}(F_{k+1}+F_{k+2}) \\\\ &= F_{k+1}^2+F_{k+1}F_{k+2} \\\\ &= F_kF_{k+2}-(-1)^{k+1} + F_{k+1}F_{k+2} \\\\ &= (F_{k}+F_{k+1}\n",
    ")F_{k+2}-(-1)^{k+1}\\\\ &= F_{k+2}^2+(-1)^{k+2}\\end{align}\n",
    "\n",
    "So, $P(k+1)$ also holds. Therefore, by induction we know $$F_nF_{n+2}=F_{n+1}^2+(-1)^{n+1}$$ for all positive integers $n$."
   ]
  },
  {
   "cell_type": "markdown",
   "metadata": {},
   "source": [
    "## Reminder\n",
    "By now, you should have learned the following:\n",
    "- How recursion works at a conceptual level\n",
    "- How to convert iterative code to recursive code and vice versa\n",
    "- How induction can be used as a proof structure over natural numbers\n",
    "- How to write a basic induction proof\n",
    "\n",
    "## Next steps\n",
    "Proceed to PD 5.2: BigO and Sorting and read the information there. Then, there is a LaTeX assignment with code for you to do in the folder."
   ]
  }
 ],
 "metadata": {
  "colab": {
   "provenance": []
  },
  "kernelspec": {
   "display_name": "Python 3 (ipykernel)",
   "language": "python",
   "name": "python3"
  },
  "language_info": {
   "codemirror_mode": {
    "name": "ipython",
    "version": 3
   },
   "file_extension": ".py",
   "mimetype": "text/x-python",
   "name": "python",
   "nbconvert_exporter": "python",
   "pygments_lexer": "ipython3",
   "version": "3.11.2"
  }
 },
 "nbformat": 4,
 "nbformat_minor": 1
}
