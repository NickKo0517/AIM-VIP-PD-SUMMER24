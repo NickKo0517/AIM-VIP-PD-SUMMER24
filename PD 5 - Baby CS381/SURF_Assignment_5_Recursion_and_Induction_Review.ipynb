{
  "nbformat": 4,
  "nbformat_minor": 0,
  "metadata": {
    "colab": {
      "provenance": []
    },
    "kernelspec": {
      "name": "python3",
      "display_name": "Python 3"
    },
    "language_info": {
      "name": "python"
    }
  },
  "cells": [
    {
      "cell_type": "markdown",
      "source": [
        "# **Recursion and Induction Review**\n",
        "\n",
        "This tutorial will give a quick review of recursion and induction.\n",
        "\n",
        "## **To define recursion, one must define recursion...**\n",
        "\n",
        "Recursion involves a function calling itself directly or indirectly. You probably have seen a recursive algorithm before. Consider how we can calculate 5 factorial (5!). We know $5! = 5 \\cdot 4!$, and we can calculate $4!$ by multiplying $4$ by $3!$, and so on until we have a factorial we know already such as 1!.\n",
        "\n",
        "The algorithmic steps for implementing recursion in a function are as follows:\n",
        "\n",
        "Step 1 - Define a base case: Identify the simplest case for which the solution is known or trivial. This is the stopping condition for the recursion, as it prevents the function from infinitely calling itself.\n",
        "\n",
        "Step 2 - Define a recursive case: Define the problem in terms of smaller subproblems. Break the problem down into smaller versions of itself, and call the function recursively to solve each subproblem.\n",
        "\n",
        "Step 3 - Ensure the recursion terminates: Make sure that the recursive function eventually reaches the base case, and does not enter an infinite loop.\n",
        "\n",
        "Step 4 - Combine the solutions: Combine the solutions of the subproblems to solve the original problem.\n",
        "\n",
        "Here is an example of a Python program that uses recursion to calculate $n!$."
      ],
      "metadata": {
        "id": "1PHILTOsjtoD"
      }
    },
    {
      "cell_type": "code",
      "source": [
        "# Python 3 program to find\n",
        "# factorial of given number\n",
        "# For simplicity, we will not consider negative values of $n$\n",
        "def factorial(n):\n",
        "\n",
        "    # Base case\n",
        "    # If n is 1 or 0 then\n",
        "    # return 1\n",
        "    # other wise return\n",
        "    # factorial\n",
        "    if (n==1 or n==0):\n",
        "\n",
        "        return 1\n",
        "\n",
        "    else:\n",
        "\n",
        "        return (n * factorial(n - 1)) # Recursive call to factorial function\n",
        "\n",
        "# Driver Code\n",
        "num = 5;\n",
        "print(\"number : \",num)\n",
        "print(\"Factorial : \",factorial(num))"
      ],
      "metadata": {
        "colab": {
          "base_uri": "https://localhost:8080/"
        },
        "id": "wTTGNQZ9nC0x",
        "outputId": "92e40522-75ea-45aa-a104-f8678ddc039f"
      },
      "execution_count": null,
      "outputs": [
        {
          "output_type": "stream",
          "name": "stdout",
          "text": [
            "number :  5\n",
            "Factorial :  120\n"
          ]
        }
      ]
    },
    {
      "cell_type": "markdown",
      "source": [
        "One of the most well-known recursions is the Fibonacci series, which is defined as follows:\n",
        "The Fibonacci sequence, denoted by $F_n$ is defined with base cases $F_0=0$ and $F_1=1$, and exhibits the property $$F_n=F_{n-1}+F_{n-2}$$ for all $n\\geq 2$.\n",
        "\n",
        "The first few terms of the Fibonacci series can be calculated as follows:\n",
        "$$0, 1, 1, 2, 3, 5, 8, 13, 21, 34, 55, 89, 144...$$"
      ],
      "metadata": {
        "id": "xfsWmyHQlhA2"
      }
    },
    {
      "cell_type": "markdown",
      "source": [
        "## **If I've told you $n$ times, I've told you $n+1$ times**\n",
        "Induction is a method of proof that uses a recursive approach. We generally want to use it when proving a claim $P(n)$ true over nonnegative integers (or a particular subset). The structure of an inductive proof consists of two parts:\n",
        "\n",
        "Base Case: We show that $P(n)$ holds for a particular $n$, typically $n=0$ or $n=1$\n",
        "\n",
        "Inductive Step: Assuming $P(n)$ holds for a particular $n=k$, we show that $P(k+1)$ holds.\n",
        "\n",
        "An easy way to understand inductive proofs is to think of a line of dominos. If we tip the first domino to make it fall (the base case) and each domino that falls causes the subsequent domino to fall (the inductive step), ultimately all the dominos will fall.\n",
        "\n",
        "Let's now look at an example:\n",
        "\n",
        "### **Example**\n",
        "**Prove that for all positive integers $n$, $$F_nF_{n+2}=F_{n+1}^2+(-1)^{n+1}$$**\n",
        "\n",
        "For this problem we let $P(n)$ be the mathematical statement $$F_nF_{n+2}=F_{n+1}^2+(-1)^{n+1}$$ We proceed using induction.\n",
        "\n",
        "Base case: $n=1$\n",
        "\n",
        "We know by definition that $F_1=1$, moreover $F_2=F_0+F_1=1$ and $F_3 = F_1+F_2=2$ So, the left hand side is $F_1F_3=1 \\cdot 2 = 2$ and the right hand side is also $F_2^2+(-1)^2 = 2$. Thus the base case $P(1)$ holds.\n",
        "\n",
        "Inductive step:\n",
        "\n",
        "Assume for some value $k$ that $P(k)$ holds. It follows that $$F_kF_{k+2}-(-1)^{k+1}=F_{k+1}^2$$ Then for $n=k+1,$ \\begin{align}F_{k+1}F_{k+3} &= F_{k+1}(F_{k+1}+F_{k+2}) \\\\ &= F_{k+1}^2+F_{k+1}F_{k+2} \\\\ &= F_kF_{k+2}-(-1)^{k+1} + F_{k+1}F_{k+2} \\\\ &= (F_{k}+F_{k+1}\n",
        ")F_{k+2}-(-1)^{k+1}\\\\ &= F_{k+2}^2+(-1)^{k+2}\\end{align}\n",
        "\n",
        "So, $P(k+1)$ also holds. Therefore, by induction we know $$F_nF_{n+2}=F_{n+1}^2+(-1)^{n+1}$$ for all positive integers $n$"
      ],
      "metadata": {
        "id": "Ugij8Iq5n45b"
      }
    }
  ]
}
